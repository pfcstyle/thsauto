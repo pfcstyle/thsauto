{
 "cells": [
  {
   "cell_type": "code",
   "execution_count": 1,
   "metadata": {},
   "outputs": [
    {
     "name": "stderr",
     "output_type": "stream",
     "text": [
      "\u001b[32m2024-05-13 00:03:46.177\u001b[0m | \u001b[1mINFO    \u001b[0m | \u001b[36mthsauto.utils\u001b[0m:\u001b[36m__exit__\u001b[0m:\u001b[36m17\u001b[0m - \u001b[1mcode executed in 0.025400099999999703 seconds\u001b[0m\n"
     ]
    },
    {
     "data": {
      "text/plain": [
       "{'currentPackageName': 'com.hexin.plat.android',\n",
       " 'displayHeight': 1280,\n",
       " 'displayRotation': 0,\n",
       " 'displaySizeDpX': 480,\n",
       " 'displaySizeDpY': 853,\n",
       " 'displayWidth': 720,\n",
       " 'productName': 'z3qksx',\n",
       " 'screenOn': True,\n",
       " 'sdkInt': 25,\n",
       " 'naturalOrientation': True}"
      ]
     },
     "execution_count": 1,
     "metadata": {},
     "output_type": "execute_result"
    }
   ],
   "source": [
    "from thsauto import THS\n",
    "\n",
    "# 初次使用请在`debug=True`模式下多测试几次\n",
    "# 再次测试在模拟炒股下再开启`debug=False`\n",
    "# 然后再在其它账号下`debug=True`模式下测试\n",
    "# 最后是其它账号下`debug=False`下交易\n",
    "t = THS(debug=True, skip_popup=False)\n",
    "# t.connect(addr=\"emulator-5554\")\n",
    "# t.connect(addr=\"38edccd4\")\n",
    "t.connect(addr=\"127.0.0.1:62001\")\n"
   ]
  },
  {
   "cell_type": "code",
   "execution_count": 4,
   "metadata": {},
   "outputs": [],
   "source": [
    "# 可事后再改成可以下单，也可以在下单函数中指定\n",
    "# t.debug = False\n",
    "# t.refresh()  # 不能在撤单页使用\n",
    "# t.refresh_chedanK()"
   ]
  },
  {
   "cell_type": "code",
   "execution_count": 6,
   "metadata": {},
   "outputs": [
    {
     "name": "stderr",
     "output_type": "stream",
     "text": [
      "\u001b[32m2024-05-13 00:01:37.206\u001b[0m | \u001b[1mINFO    \u001b[0m | \u001b[36mthsauto.utils\u001b[0m:\u001b[36m__exit__\u001b[0m:\u001b[36m17\u001b[0m - \u001b[1m获取资产 code executed in 0.9328552000000059 seconds\u001b[0m\n"
     ]
    },
    {
     "name": "stdout",
     "output_type": "stream",
     "text": [
      "['200,000.00', '0.00', '0.00', '0.00', '200,000.00', '0.00']\n"
     ]
    },
    {
     "data": {
      "text/plain": [
       "{'总资产': 200000.0,\n",
       " '浮动盈亏': 0.0,\n",
       " '当日参考盈亏': 0.0,\n",
       " '当日参考盈亏率': 0.0,\n",
       " '持仓市值': 200000.0,\n",
       " '可用资金': 0.0}"
      ]
     },
     "execution_count": 6,
     "metadata": {},
     "output_type": "execute_result"
    }
   ],
   "source": [
    "# 资产\n",
    "balance = t.get_balance()\n",
    "balance"
   ]
  },
  {
   "cell_type": "code",
   "execution_count": 7,
   "metadata": {},
   "outputs": [
    {
     "name": "stderr",
     "output_type": "stream",
     "text": [
      "\u001b[32m2024-05-13 00:01:44.892\u001b[0m | \u001b[1mINFO    \u001b[0m | \u001b[36mthsauto.utils\u001b[0m:\u001b[36m__exit__\u001b[0m:\u001b[36m17\u001b[0m - \u001b[1mcode executed in 3.1190745999999763 seconds\u001b[0m\n"
     ]
    },
    {
     "data": {
      "text/html": [
       "<div>\n",
       "<style scoped>\n",
       "    .dataframe tbody tr th:only-of-type {\n",
       "        vertical-align: middle;\n",
       "    }\n",
       "\n",
       "    .dataframe tbody tr th {\n",
       "        vertical-align: top;\n",
       "    }\n",
       "\n",
       "    .dataframe thead th {\n",
       "        text-align: right;\n",
       "    }\n",
       "</style>\n",
       "<table border=\"1\" class=\"dataframe\">\n",
       "  <thead>\n",
       "    <tr style=\"text-align: right;\">\n",
       "      <th></th>\n",
       "      <th>名称</th>\n",
       "      <th>市值</th>\n",
       "      <th>盈亏</th>\n",
       "      <th>盈亏率</th>\n",
       "      <th>持仓</th>\n",
       "      <th>可用</th>\n",
       "      <th>成本</th>\n",
       "      <th>现价</th>\n",
       "    </tr>\n",
       "  </thead>\n",
       "  <tbody>\n",
       "  </tbody>\n",
       "</table>\n",
       "</div>"
      ],
      "text/plain": [
       "Empty DataFrame\n",
       "Columns: [名称, 市值, 盈亏, 盈亏率, 持仓, 可用, 成本, 现价]\n",
       "Index: []"
      ]
     },
     "execution_count": 7,
     "metadata": {},
     "output_type": "execute_result"
    }
   ],
   "source": [
    "# 持仓\n",
    "positions = t.get_positions()\n",
    "positions"
   ]
  },
  {
   "cell_type": "code",
   "execution_count": 17,
   "metadata": {},
   "outputs": [
    {
     "name": "stderr",
     "output_type": "stream",
     "text": [
      "\u001b[32m2024-05-13 00:16:59.406\u001b[0m | \u001b[1mINFO    \u001b[0m | \u001b[36mthsauto.utils\u001b[0m:\u001b[36m__exit__\u001b[0m:\u001b[36m17\u001b[0m - \u001b[1mcode executed in 3.1922577000000274 seconds\u001b[0m\n"
     ]
    },
    {
     "data": {
      "text/html": [
       "<div>\n",
       "<style scoped>\n",
       "    .dataframe tbody tr th:only-of-type {\n",
       "        vertical-align: middle;\n",
       "    }\n",
       "\n",
       "    .dataframe tbody tr th {\n",
       "        vertical-align: top;\n",
       "    }\n",
       "\n",
       "    .dataframe thead th {\n",
       "        text-align: right;\n",
       "    }\n",
       "</style>\n",
       "<table border=\"1\" class=\"dataframe\">\n",
       "  <thead>\n",
       "    <tr style=\"text-align: right;\">\n",
       "      <th></th>\n",
       "      <th>名称</th>\n",
       "      <th>委托时间</th>\n",
       "      <th>委托价</th>\n",
       "      <th>成交均价</th>\n",
       "      <th>委托量</th>\n",
       "      <th>已成交量</th>\n",
       "      <th>买卖</th>\n",
       "      <th>状态</th>\n",
       "    </tr>\n",
       "  </thead>\n",
       "  <tbody>\n",
       "  </tbody>\n",
       "</table>\n",
       "</div>"
      ],
      "text/plain": [
       "Empty DataFrame\n",
       "Columns: [名称, 委托时间, 委托价, 成交均价, 委托量, 已成交量, 买卖, 状态]\n",
       "Index: []"
      ]
     },
     "execution_count": 17,
     "metadata": {},
     "output_type": "execute_result"
    }
   ],
   "source": [
    "# 委托\n",
    "orders = t.get_orders(break_after_done=True)\n",
    "orders"
   ]
  },
  {
   "cell_type": "code",
   "execution_count": 3,
   "metadata": {},
   "outputs": [
    {
     "data": {
      "text/plain": [
       "[]"
      ]
     },
     "execution_count": 3,
     "metadata": {},
     "output_type": "execute_result"
    }
   ],
   "source": [
    "# 委托。未处理的原始数据\n",
    "t.orders"
   ]
  },
  {
   "cell_type": "code",
   "execution_count": 12,
   "metadata": {},
   "outputs": [
    {
     "name": "stderr",
     "output_type": "stream",
     "text": [
      "\u001b[32m2024-05-13 00:12:11.817\u001b[0m | \u001b[1mINFO    \u001b[0m | \u001b[36mthsauto.base\u001b[0m:\u001b[36m_place_order_auto\u001b[0m:\u001b[36m483\u001b[0m - \u001b[1m{}\u001b[0m\n",
      "\u001b[32m2024-05-13 00:12:11.974\u001b[0m | \u001b[1mINFO    \u001b[0m | \u001b[36mthsauto.utils\u001b[0m:\u001b[36m__exit__\u001b[0m:\u001b[36m17\u001b[0m - \u001b[1mcode executed in 6.201648700000021 seconds\u001b[0m\n"
     ]
    },
    {
     "data": {
      "text/plain": [
       "({}, {})"
      ]
     },
     "execution_count": 12,
     "metadata": {},
     "output_type": "execute_result"
    }
   ],
   "source": [
    "# 支持股票代码\n",
    "confirm, prompt = t.buy(100, 5, code='600000', debug=False)\n",
    "confirm, prompt\n"
   ]
  },
  {
   "cell_type": "code",
   "execution_count": 5,
   "metadata": {},
   "outputs": [
    {
     "name": "stderr",
     "output_type": "stream",
     "text": [
      "\u001b[32m2024-05-13 00:04:40.434\u001b[0m | \u001b[1mINFO    \u001b[0m | \u001b[36mthsauto.base\u001b[0m:\u001b[36m_place_order\u001b[0m:\u001b[36m415\u001b[0m - \u001b[1m{'标题': '系统信息', '内容': '暂时不提供[柜台查询证券行情(B)]功能的服务 ,敬请谅解 !'}\u001b[0m\n",
      "\u001b[32m2024-05-13 00:04:40.582\u001b[0m | \u001b[1mINFO    \u001b[0m | \u001b[36mthsauto.utils\u001b[0m:\u001b[36m__exit__\u001b[0m:\u001b[36m17\u001b[0m - \u001b[1mcode executed in 5.433101899999997 seconds\u001b[0m\n"
     ]
    },
    {
     "data": {
      "text/plain": [
       "({}, {'标题': '系统信息', '内容': '暂时不提供[柜台查询证券行情(B)]功能的服务 ,敬请谅解 !'})"
      ]
     },
     "execution_count": 5,
     "metadata": {},
     "output_type": "execute_result"
    }
   ],
   "source": [
    "\n",
    "# 支持股票名称。只要在键盘精灵中排第一即可\n",
    "confirm, prompt = t.sell('300', '11', symbol='万科A', debug=True)\n",
    "confirm, prompt"
   ]
  },
  {
   "cell_type": "code",
   "execution_count": 8,
   "metadata": {},
   "outputs": [
    {
     "name": "stderr",
     "output_type": "stream",
     "text": [
      "\u001b[32m2024-05-13 00:10:20.615\u001b[0m | \u001b[1mINFO    \u001b[0m | \u001b[36mthsauto.base\u001b[0m:\u001b[36m_place_order_auto\u001b[0m:\u001b[36m461\u001b[0m - \u001b[1m{'标题': '委托卖出确认', '账户': ' A521280853', '名称': ' 贵州茅台', '代码': ' 600519', '数量': ' 200', '价格': ' 1738.98'}\u001b[0m\n",
      "\u001b[32m2024-05-13 00:10:21.094\u001b[0m | \u001b[1mINFO    \u001b[0m | \u001b[36mthsauto.base\u001b[0m:\u001b[36m_place_order_auto\u001b[0m:\u001b[36m477\u001b[0m - \u001b[1m{'标题': '系统信息', '内容': '股票余额不足 ,不允许卖空'}\u001b[0m\n",
      "\u001b[32m2024-05-13 00:10:21.243\u001b[0m | \u001b[1mINFO    \u001b[0m | \u001b[36mthsauto.utils\u001b[0m:\u001b[36m__exit__\u001b[0m:\u001b[36m17\u001b[0m - \u001b[1mcode executed in 3.7356108000000177 seconds\u001b[0m\n"
     ]
    },
    {
     "data": {
      "text/plain": [
       "({'标题': '委托卖出确认',\n",
       "  '账户': 'A521280853',\n",
       "  '名称': '贵州茅台',\n",
       "  '代码': '600519',\n",
       "  '数量': 200,\n",
       "  '价格': 1738.98},\n",
       " {'标题': '系统信息', '内容': '股票余额不足 ,不允许卖空'})"
      ]
     },
     "execution_count": 8,
     "metadata": {},
     "output_type": "execute_result"
    }
   ],
   "source": [
    "\n",
    "# 支持拼音缩写。只要在键盘精灵中排第一即可\n",
    "confirm, prompt = t.sell(200, float('nan'), symbol='gzmt', skip_popup=False)\n",
    "confirm, prompt"
   ]
  },
  {
   "cell_type": "code",
   "execution_count": 13,
   "metadata": {},
   "outputs": [
    {
     "ename": "AssertionError",
     "evalue": "请先执行`get_orders`，或不要超过有效范围",
     "output_type": "error",
     "traceback": [
      "\u001b[1;31m---------------------------------------------------------------------------\u001b[0m",
      "\u001b[1;31mAssertionError\u001b[0m                            Traceback (most recent call last)",
      "Cell \u001b[1;32mIn[13], line 2\u001b[0m\n\u001b[0;32m      1\u001b[0m \u001b[38;5;66;03m# 撤第一条\u001b[39;00m\n\u001b[1;32m----> 2\u001b[0m confirm, prompt \u001b[38;5;241m=\u001b[39m t\u001b[38;5;241m.\u001b[39mcancel_single(\u001b[43mt\u001b[49m\u001b[38;5;241;43m.\u001b[39;49m\u001b[43morder_at\u001b[49m\u001b[43m(\u001b[49m\u001b[38;5;241;43m0\u001b[39;49m\u001b[43m)\u001b[49m)\n\u001b[0;32m      3\u001b[0m confirm, prompt\n",
      "File \u001b[1;32mD:\\Code\\python\\thsauto\\thsauto\\ths.py:156\u001b[0m, in \u001b[0;36mTHS.order_at\u001b[1;34m(self, idx)\u001b[0m\n\u001b[0;32m    143\u001b[0m \u001b[38;5;28;01mdef\u001b[39;00m \u001b[38;5;21morder_at\u001b[39m(\u001b[38;5;28mself\u001b[39m, idx: \u001b[38;5;28mint\u001b[39m) \u001b[38;5;241m-\u001b[39m\u001b[38;5;241m>\u001b[39m Tuple:\n\u001b[0;32m    144\u001b[0m \u001b[38;5;250m    \u001b[39m\u001b[38;5;124;03m\"\"\"返回委托列表中指定位置的委托\u001b[39;00m\n\u001b[0;32m    145\u001b[0m \n\u001b[0;32m    146\u001b[0m \u001b[38;5;124;03m    Parameters\u001b[39;00m\n\u001b[1;32m   (...)\u001b[0m\n\u001b[0;32m    154\u001b[0m \n\u001b[0;32m    155\u001b[0m \u001b[38;5;124;03m    \"\"\"\u001b[39;00m\n\u001b[1;32m--> 156\u001b[0m     \u001b[38;5;28;01massert\u001b[39;00m \u001b[38;5;241m0\u001b[39m \u001b[38;5;241m<\u001b[39m\u001b[38;5;241m=\u001b[39m idx \u001b[38;5;241m<\u001b[39m \u001b[38;5;28mlen\u001b[39m(\u001b[38;5;28mself\u001b[39m\u001b[38;5;241m.\u001b[39morders), \u001b[38;5;124m'\u001b[39m\u001b[38;5;124m请先执行`get_orders`，或不要超过有效范围\u001b[39m\u001b[38;5;124m'\u001b[39m\n\u001b[0;32m    157\u001b[0m     order \u001b[38;5;241m=\u001b[39m \u001b[38;5;28mself\u001b[39m\u001b[38;5;241m.\u001b[39morders[idx]\n\u001b[0;32m    158\u001b[0m     \u001b[38;5;28;01mreturn\u001b[39;00m order\n",
      "\u001b[1;31mAssertionError\u001b[0m: 请先执行`get_orders`，或不要超过有效范围"
     ]
    }
   ],
   "source": [
    "\n",
    "# 撤第一条\n",
    "confirm, prompt = t.cancel_single(t.order_at(0))\n",
    "confirm, prompt"
   ]
  },
  {
   "cell_type": "code",
   "execution_count": null,
   "metadata": {},
   "outputs": [],
   "source": [
    "\n",
    "# 撤卖\n",
    "confirm, prompt = t.cancel_multiple('buy')\n",
    "confirm, prompt"
   ]
  },
  {
   "cell_type": "code",
   "execution_count": null,
   "metadata": {},
   "outputs": [],
   "source": [
    "\n",
    "# 全撤\n",
    "confirm, prompt = t.cancel_multiple('all', debug=False)\n",
    "confirm, prompt"
   ]
  },
  {
   "cell_type": "code",
   "execution_count": null,
   "metadata": {},
   "outputs": [],
   "source": [
    "confirm, prompt = t.cancel_multiple('sell')\n",
    "confirm, prompt"
   ]
  }
 ],
 "metadata": {
  "kernelspec": {
   "display_name": "env",
   "language": "python",
   "name": "python3"
  },
  "language_info": {
   "codemirror_mode": {
    "name": "ipython",
    "version": 3
   },
   "file_extension": ".py",
   "mimetype": "text/x-python",
   "name": "python",
   "nbconvert_exporter": "python",
   "pygments_lexer": "ipython3",
   "version": "3.8.10"
  }
 },
 "nbformat": 4,
 "nbformat_minor": 2
}
