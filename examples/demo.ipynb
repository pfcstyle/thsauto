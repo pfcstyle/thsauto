{
 "cells": [
  {
   "cell_type": "code",
   "execution_count": 1,
   "metadata": {},
   "outputs": [
    {
     "name": "stderr",
     "output_type": "stream",
     "text": [
      "\u001b[32m2024-05-09 16:22:35.566\u001b[0m | \u001b[1mINFO    \u001b[0m | \u001b[36mthsauto.utils\u001b[0m:\u001b[36m__exit__\u001b[0m:\u001b[36m16\u001b[0m - \u001b[1mcode executed in 2.0255999000000884 seconds\u001b[0m\n"
     ]
    },
    {
     "data": {
      "text/plain": [
       "{'currentPackageName': 'com.hexin.plat.android',\n",
       " 'displayHeight': 1280,\n",
       " 'displayRotation': 0,\n",
       " 'displaySizeDpX': 480,\n",
       " 'displaySizeDpY': 853,\n",
       " 'displayWidth': 720,\n",
       " 'productName': 'VOG-AL10',\n",
       " 'screenOn': True,\n",
       " 'sdkInt': 25,\n",
       " 'naturalOrientation': True}"
      ]
     },
     "execution_count": 1,
     "metadata": {},
     "output_type": "execute_result"
    }
   ],
   "source": [
    "from thsauto import THS\n",
    "\n",
    "# 初次使用请在`debug=True`模式下多测试几次\n",
    "# 再次测试在模拟炒股下再开启`debug=False`\n",
    "# 然后再在其它账号下`debug=True`模式下测试\n",
    "# 最后是其它账号下`debug=False`下交易\n",
    "t = THS(debug=True, skip_popup=False)\n",
    "# t.connect(addr=\"emulator-5554\")\n",
    "# t.connect(addr=\"38edccd4\")\n",
    "t.connect(addr=\"127.0.0.1:62001\")\n"
   ]
  },
  {
   "cell_type": "code",
   "execution_count": 3,
   "metadata": {},
   "outputs": [
    {
     "name": "stderr",
     "output_type": "stream",
     "text": [
      "\u001b[32m2024-05-09 16:23:05.226\u001b[0m | \u001b[1mINFO    \u001b[0m | \u001b[36mthsauto.utils\u001b[0m:\u001b[36m__exit__\u001b[0m:\u001b[36m16\u001b[0m - \u001b[1mcode executed in 6.208627799998794 seconds\u001b[0m\n"
     ]
    },
    {
     "data": {
      "text/plain": [
       "{}"
      ]
     },
     "execution_count": 3,
     "metadata": {},
     "output_type": "execute_result"
    }
   ],
   "source": [
    "# 可事后再改成可以下单，也可以在下单函数中指定\n",
    "t.debug = False\n",
    "t.refresh()"
   ]
  },
  {
   "cell_type": "code",
   "execution_count": 7,
   "metadata": {},
   "outputs": [],
   "source": [
    "from thsauto import THS"
   ]
  },
  {
   "cell_type": "code",
   "execution_count": 5,
   "metadata": {},
   "outputs": [
    {
     "name": "stdout",
     "output_type": "stream",
     "text": [
      "code change\n"
     ]
    },
    {
     "name": "stderr",
     "output_type": "stream",
     "text": [
      "\u001b[32m2024-05-09 16:25:15.499\u001b[0m | \u001b[1mINFO    \u001b[0m | \u001b[36mthsauto.utils\u001b[0m:\u001b[36m__exit__\u001b[0m:\u001b[36m16\u001b[0m - \u001b[1mcode executed in 40.27596779999658 seconds\u001b[0m\n"
     ]
    },
    {
     "name": "stdout",
     "output_type": "stream",
     "text": [
      "['191,472.34', '0.00', '0.00', '0.00', '191,472.34', '0.00']\n"
     ]
    },
    {
     "data": {
      "text/plain": [
       "{'总资产': 191472.34,\n",
       " '浮动盈亏': 0.0,\n",
       " '当日参考盈亏': 0.0,\n",
       " '当日参考盈亏率': 0.0,\n",
       " '持仓市值': 191472.34,\n",
       " '可用资金': 0.0}"
      ]
     },
     "execution_count": 5,
     "metadata": {},
     "output_type": "execute_result"
    }
   ],
   "source": [
    "# 资产\n",
    "balance = t.get_balance()\n",
    "balance"
   ]
  },
  {
   "cell_type": "code",
   "execution_count": null,
   "metadata": {},
   "outputs": [],
   "source": [
    "# 持仓\n",
    "positions = t.get_positions()\n",
    "positions"
   ]
  }
 ],
 "metadata": {
  "kernelspec": {
   "display_name": "env",
   "language": "python",
   "name": "python3"
  },
  "language_info": {
   "codemirror_mode": {
    "name": "ipython",
    "version": 3
   },
   "file_extension": ".py",
   "mimetype": "text/x-python",
   "name": "python",
   "nbconvert_exporter": "python",
   "pygments_lexer": "ipython3",
   "version": "3.11.4"
  }
 },
 "nbformat": 4,
 "nbformat_minor": 2
}
