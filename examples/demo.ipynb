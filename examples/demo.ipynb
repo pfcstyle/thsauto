{
 "cells": [
  {
   "cell_type": "code",
   "execution_count": 1,
   "metadata": {},
   "outputs": [
    {
     "name": "stderr",
     "output_type": "stream",
     "text": [
      "\u001b[32m2024-05-10 22:50:26.195\u001b[0m | \u001b[1mINFO    \u001b[0m | \u001b[36mthsauto.utils\u001b[0m:\u001b[36m__exit__\u001b[0m:\u001b[36m16\u001b[0m - \u001b[1mcode executed in 0.016262499999999847 seconds\u001b[0m\n"
     ]
    },
    {
     "data": {
      "text/plain": [
       "{'currentPackageName': 'com.hexin.plat.android',\n",
       " 'displayHeight': 1280,\n",
       " 'displayRotation': 0,\n",
       " 'displaySizeDpX': 480,\n",
       " 'displaySizeDpY': 853,\n",
       " 'displayWidth': 720,\n",
       " 'productName': 'z3qksx',\n",
       " 'screenOn': True,\n",
       " 'sdkInt': 25,\n",
       " 'naturalOrientation': True}"
      ]
     },
     "execution_count": 1,
     "metadata": {},
     "output_type": "execute_result"
    }
   ],
   "source": [
    "from thsauto import THS\n",
    "\n",
    "# 初次使用请在`debug=True`模式下多测试几次\n",
    "# 再次测试在模拟炒股下再开启`debug=False`\n",
    "# 然后再在其它账号下`debug=True`模式下测试\n",
    "# 最后是其它账号下`debug=False`下交易\n",
    "t = THS(debug=True, skip_popup=False)\n",
    "# t.connect(addr=\"emulator-5554\")\n",
    "# t.connect(addr=\"38edccd4\")\n",
    "t.connect(addr=\"127.0.0.1:62001\")\n"
   ]
  },
  {
   "cell_type": "code",
   "execution_count": 3,
   "metadata": {},
   "outputs": [
    {
     "name": "stderr",
     "output_type": "stream",
     "text": [
      "\u001b[32m2024-05-10 22:40:32.554\u001b[0m | \u001b[1mINFO    \u001b[0m | \u001b[36mthsauto.utils\u001b[0m:\u001b[36m__exit__\u001b[0m:\u001b[36m16\u001b[0m - \u001b[1mcode executed in 0.3433506999999736 seconds\u001b[0m\n"
     ]
    },
    {
     "data": {
      "text/plain": [
       "{}"
      ]
     },
     "execution_count": 3,
     "metadata": {},
     "output_type": "execute_result"
    }
   ],
   "source": [
    "# 可事后再改成可以下单，也可以在下单函数中指定\n",
    "t.debug = False\n",
    "t.refresh()"
   ]
  },
  {
   "cell_type": "code",
   "execution_count": 2,
   "metadata": {},
   "outputs": [
    {
     "name": "stderr",
     "output_type": "stream",
     "text": [
      "\u001b[32m2024-05-10 22:50:30.556\u001b[0m | \u001b[1mINFO    \u001b[0m | \u001b[36mthsauto.utils\u001b[0m:\u001b[36m__exit__\u001b[0m:\u001b[36m16\u001b[0m - \u001b[1mcode executed in 0.05904329999999902 seconds\u001b[0m\n",
      "\u001b[32m2024-05-10 22:50:34.580\u001b[0m | \u001b[1mINFO    \u001b[0m | \u001b[36mthsauto.utils\u001b[0m:\u001b[36m__exit__\u001b[0m:\u001b[36m16\u001b[0m - \u001b[1mcode executed in 4.082766500000002 seconds\u001b[0m\n",
      "\u001b[32m2024-05-10 22:50:35.323\u001b[0m | \u001b[1mINFO    \u001b[0m | \u001b[36mthsauto.utils\u001b[0m:\u001b[36m__exit__\u001b[0m:\u001b[36m16\u001b[0m - \u001b[1mcode executed in 0.7429921000000022 seconds\u001b[0m\n",
      "\u001b[32m2024-05-10 22:50:35.324\u001b[0m | \u001b[1mINFO    \u001b[0m | \u001b[36mthsauto.utils\u001b[0m:\u001b[36m__exit__\u001b[0m:\u001b[36m16\u001b[0m - \u001b[1mcode executed in 9.900000002005527e-06 seconds\u001b[0m\n"
     ]
    },
    {
     "name": "stdout",
     "output_type": "stream",
     "text": [
      "['200,000.00', '0.00', '0.00', '0.00', '200,000.00', '0.00']\n"
     ]
    },
    {
     "data": {
      "text/plain": [
       "{'总资产': 200000.0,\n",
       " '浮动盈亏': 0.0,\n",
       " '当日参考盈亏': 0.0,\n",
       " '当日参考盈亏率': 0.0,\n",
       " '持仓市值': 200000.0,\n",
       " '可用资金': 0.0}"
      ]
     },
     "execution_count": 2,
     "metadata": {},
     "output_type": "execute_result"
    }
   ],
   "source": [
    "# 资产\n",
    "balance = t.get_balance()\n",
    "balance"
   ]
  },
  {
   "cell_type": "code",
   "execution_count": 3,
   "metadata": {},
   "outputs": [
    {
     "name": "stderr",
     "output_type": "stream",
     "text": [
      "\u001b[32m2024-05-10 22:47:22.693\u001b[0m | \u001b[1mINFO    \u001b[0m | \u001b[36mthsauto.utils\u001b[0m:\u001b[36m__exit__\u001b[0m:\u001b[36m16\u001b[0m - \u001b[1mcode executed in 7.076880899999992 seconds\u001b[0m\n"
     ]
    },
    {
     "data": {
      "text/html": [
       "<div>\n",
       "<style scoped>\n",
       "    .dataframe tbody tr th:only-of-type {\n",
       "        vertical-align: middle;\n",
       "    }\n",
       "\n",
       "    .dataframe tbody tr th {\n",
       "        vertical-align: top;\n",
       "    }\n",
       "\n",
       "    .dataframe thead th {\n",
       "        text-align: right;\n",
       "    }\n",
       "</style>\n",
       "<table border=\"1\" class=\"dataframe\">\n",
       "  <thead>\n",
       "    <tr style=\"text-align: right;\">\n",
       "      <th></th>\n",
       "      <th>名称</th>\n",
       "      <th>市值</th>\n",
       "      <th>盈亏</th>\n",
       "      <th>盈亏率</th>\n",
       "      <th>持仓</th>\n",
       "      <th>可用</th>\n",
       "      <th>成本</th>\n",
       "      <th>现价</th>\n",
       "    </tr>\n",
       "  </thead>\n",
       "  <tbody>\n",
       "  </tbody>\n",
       "</table>\n",
       "</div>"
      ],
      "text/plain": [
       "Empty DataFrame\n",
       "Columns: [名称, 市值, 盈亏, 盈亏率, 持仓, 可用, 成本, 现价]\n",
       "Index: []"
      ]
     },
     "execution_count": 3,
     "metadata": {},
     "output_type": "execute_result"
    }
   ],
   "source": [
    "# 持仓\n",
    "positions = t.get_positions()\n",
    "positions"
   ]
  },
  {
   "cell_type": "code",
   "execution_count": null,
   "metadata": {},
   "outputs": [],
   "source": [
    "# 委托\n",
    "orders = t.get_orders(break_after_done=True)\n",
    "orders"
   ]
  },
  {
   "cell_type": "code",
   "execution_count": null,
   "metadata": {},
   "outputs": [],
   "source": [
    "# 委托。未处理的原始数据\n",
    "t.orders"
   ]
  },
  {
   "cell_type": "code",
   "execution_count": null,
   "metadata": {},
   "outputs": [],
   "source": [
    "# 支持股票代码\n",
    "confirm, prompt = t.buy(-100, 5, code='600000')\n",
    "confirm, prompt\n"
   ]
  },
  {
   "cell_type": "code",
   "execution_count": null,
   "metadata": {},
   "outputs": [],
   "source": [
    "\n",
    "# 支持股票名称。只要在键盘精灵中排第一即可\n",
    "confirm, prompt = t.sell('300', '11', symbol='万科A', debug=True)\n",
    "confirm, prompt"
   ]
  },
  {
   "cell_type": "code",
   "execution_count": null,
   "metadata": {},
   "outputs": [],
   "source": [
    "\n",
    "# 支持拼音缩写。只要在键盘精灵中排第一即可\n",
    "confirm, prompt = t.sell(200, float('nan'), symbol='gzmt', skip_popup=True)\n",
    "confirm, prompt"
   ]
  },
  {
   "cell_type": "code",
   "execution_count": null,
   "metadata": {},
   "outputs": [],
   "source": [
    "\n",
    "# 撤第一条\n",
    "confirm, prompt = t.cancel_single(t.order_at(0))\n",
    "confirm, prompt"
   ]
  },
  {
   "cell_type": "code",
   "execution_count": null,
   "metadata": {},
   "outputs": [],
   "source": [
    "\n",
    "# 撤卖\n",
    "confirm, prompt = t.cancel_multiple('buy')\n",
    "confirm, prompt"
   ]
  },
  {
   "cell_type": "code",
   "execution_count": null,
   "metadata": {},
   "outputs": [],
   "source": [
    "\n",
    "# 全撤\n",
    "confirm, prompt = t.cancel_multiple('all', debug=False)\n",
    "confirm, prompt"
   ]
  },
  {
   "cell_type": "code",
   "execution_count": null,
   "metadata": {},
   "outputs": [],
   "source": [
    "confirm, prompt = t.cancel_multiple('sell')\n",
    "confirm, prompt"
   ]
  }
 ],
 "metadata": {
  "kernelspec": {
   "display_name": "env",
   "language": "python",
   "name": "python3"
  },
  "language_info": {
   "codemirror_mode": {
    "name": "ipython",
    "version": 3
   },
   "file_extension": ".py",
   "mimetype": "text/x-python",
   "name": "python",
   "nbconvert_exporter": "python",
   "pygments_lexer": "ipython3",
   "version": "3.8.10"
  }
 },
 "nbformat": 4,
 "nbformat_minor": 2
}
