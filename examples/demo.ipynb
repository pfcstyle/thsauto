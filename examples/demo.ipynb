{
 "cells": [
  {
   "cell_type": "code",
   "execution_count": 1,
   "metadata": {},
   "outputs": [
    {
     "name": "stderr",
     "output_type": "stream",
     "text": [
      "\u001b[32m2024-05-16 23:06:14.508\u001b[0m | \u001b[1mINFO    \u001b[0m | \u001b[36mthsauto.utils\u001b[0m:\u001b[36m__exit__\u001b[0m:\u001b[36m17\u001b[0m - \u001b[1mcode executed in 0.026052799999999987 seconds\u001b[0m\n"
     ]
    },
    {
     "data": {
      "text/plain": [
       "{'currentPackageName': 'com.hexin.plat.android',\n",
       " 'displayHeight': 1280,\n",
       " 'displayRotation': 0,\n",
       " 'displaySizeDpX': 480,\n",
       " 'displaySizeDpY': 853,\n",
       " 'displayWidth': 720,\n",
       " 'productName': 'z3qksx',\n",
       " 'screenOn': True,\n",
       " 'sdkInt': 25,\n",
       " 'naturalOrientation': True}"
      ]
     },
     "execution_count": 1,
     "metadata": {},
     "output_type": "execute_result"
    }
   ],
   "source": [
    "from thsauto import THS\n",
    "\n",
    "# 初次使用请在`debug=True`模式下多测试几次\n",
    "# 再次测试在模拟炒股下再开启`debug=False`\n",
    "# 然后再在其它账号下`debug=True`模式下测试\n",
    "# 最后是其它账号下`debug=False`下交易\n",
    "t = THS(debug=True, skip_popup=False)\n",
    "# t.connect(addr=\"emulator-5554\")\n",
    "# t.connect(addr=\"38edccd4\")\n",
    "t.connect(addr=\"127.0.0.1:62001\")\n"
   ]
  },
  {
   "cell_type": "code",
   "execution_count": null,
   "metadata": {},
   "outputs": [],
   "source": [
    "# 可事后再改成可以下单，也可以在下单函数中指定\n",
    "# t.debug = False\n",
    "t.refresh()  # 不能在撤单页使用\n",
    "# t.refresh_chedanK()"
   ]
  },
  {
   "cell_type": "code",
   "execution_count": 4,
   "metadata": {},
   "outputs": [
    {
     "name": "stderr",
     "output_type": "stream",
     "text": [
      "\u001b[32m2024-05-16 22:37:08.281\u001b[0m | \u001b[1mINFO    \u001b[0m | \u001b[36mthsauto.utils\u001b[0m:\u001b[36m__exit__\u001b[0m:\u001b[36m17\u001b[0m - \u001b[1mhome code executed in 0.08029420000093523 seconds\u001b[0m\n",
      "\u001b[32m2024-05-16 22:37:09.311\u001b[0m | \u001b[1mINFO    \u001b[0m | \u001b[36mthsauto.utils\u001b[0m:\u001b[36m__exit__\u001b[0m:\u001b[36m17\u001b[0m - \u001b[1m获取资产 code executed in 1.10986930000945 seconds\u001b[0m\n"
     ]
    },
    {
     "name": "stdout",
     "output_type": "stream",
     "text": [
      "['199,639.51', '-360.49', '-95.00', '-0.05%', '17,909.00', '181,730.51', '0.00']\n"
     ]
    },
    {
     "data": {
      "text/plain": [
       "{'总资产': 199639.51,\n",
       " '浮动盈亏': -360.49,\n",
       " '当日参考盈亏': -95.0,\n",
       " '当日参考盈亏率': -0.0005,\n",
       " '持仓市值': 17909.0,\n",
       " '可用资金': 181730.51,\n",
       " '可取资金': 0.0}"
      ]
     },
     "execution_count": 4,
     "metadata": {},
     "output_type": "execute_result"
    }
   ],
   "source": [
    "# 资产\n",
    "balance = t.get_balance()\n",
    "balance"
   ]
  },
  {
   "cell_type": "code",
   "execution_count": 2,
   "metadata": {},
   "outputs": [
    {
     "name": "stderr",
     "output_type": "stream",
     "text": [
      "\u001b[32m2024-05-16 23:06:18.895\u001b[0m | \u001b[1mINFO    \u001b[0m | \u001b[36mthsauto.utils\u001b[0m:\u001b[36m__exit__\u001b[0m:\u001b[36m17\u001b[0m - \u001b[1mhome code executed in 0.07663810000000026 seconds\u001b[0m\n",
      "\u001b[32m2024-05-16 23:06:19.755\u001b[0m | \u001b[1mINFO    \u001b[0m | \u001b[36mthsauto.base\u001b[0m:\u001b[36m_positions_in_view\u001b[0m:\u001b[36m76\u001b[0m - \u001b[1m1 ('建投能源', '10,065.00', '-541.39', '-5.100%', '1500', '1500', '7.071', '6.710')\u001b[0m\n",
      "\u001b[32m2024-05-16 23:06:19.756\u001b[0m | \u001b[1mINFO    \u001b[0m | \u001b[36mthsauto.base\u001b[0m:\u001b[36m_positions_in_view\u001b[0m:\u001b[36m76\u001b[0m - \u001b[1m2 ('平安银行', '2,234.00', '50.30', '2.300%', '200', '200', '10.919', '11.170')\u001b[0m\n",
      "\u001b[32m2024-05-16 23:06:19.757\u001b[0m | \u001b[1mINFO    \u001b[0m | \u001b[36mthsauto.base\u001b[0m:\u001b[36m_positions_in_view\u001b[0m:\u001b[36m76\u001b[0m - \u001b[1m3 ('浦发银行', '1,604.00', '24.48', '1.550%', '200', '200', '7.898', '8.020')\u001b[0m\n",
      "\u001b[32m2024-05-16 23:06:19.757\u001b[0m | \u001b[1mINFO    \u001b[0m | \u001b[36mthsauto.base\u001b[0m:\u001b[36m_positions_in_view\u001b[0m:\u001b[36m76\u001b[0m - \u001b[1m4 ('劲仔食品', '1,379.00', '-40.46', '-2.850%', '100', '100', '14.195', '13.790')\u001b[0m\n",
      "\u001b[32m2024-05-16 23:06:21.817\u001b[0m | \u001b[1mINFO    \u001b[0m | \u001b[36mthsauto.base\u001b[0m:\u001b[36m_positions_in_view\u001b[0m:\u001b[36m76\u001b[0m - \u001b[1m1 ('10,065.00', '-5.100%', '1500', '6.710')\u001b[0m\n",
      "\u001b[32m2024-05-16 23:06:21.818\u001b[0m | \u001b[1mINFO    \u001b[0m | \u001b[36mthsauto.base\u001b[0m:\u001b[36m_positions_in_view\u001b[0m:\u001b[36m76\u001b[0m - \u001b[1m2 ('平安银行', '2,234.00', '50.30', '2.300%', '200', '200', '10.919', '11.170')\u001b[0m\n",
      "\u001b[32m2024-05-16 23:06:21.819\u001b[0m | \u001b[1mINFO    \u001b[0m | \u001b[36mthsauto.base\u001b[0m:\u001b[36m_positions_in_view\u001b[0m:\u001b[36m76\u001b[0m - \u001b[1m3 ('浦发银行', '1,604.00', '24.48', '1.550%', '200', '200', '7.898', '8.020')\u001b[0m\n",
      "\u001b[32m2024-05-16 23:06:21.819\u001b[0m | \u001b[1mINFO    \u001b[0m | \u001b[36mthsauto.base\u001b[0m:\u001b[36m_positions_in_view\u001b[0m:\u001b[36m76\u001b[0m - \u001b[1m4 ('劲仔食品', '1,379.00', '-40.46', '-2.850%', '100', '100', '14.195', '13.790')\u001b[0m\n",
      "\u001b[32m2024-05-16 23:06:21.820\u001b[0m | \u001b[1mINFO    \u001b[0m | \u001b[36mthsauto.base\u001b[0m:\u001b[36m_positions_in_view\u001b[0m:\u001b[36m76\u001b[0m - \u001b[1m5 ('一汽解放', '886.00', '-15.29', '-1.700%', '100', '100', '9.013', '8.860')\u001b[0m\n",
      "\u001b[32m2024-05-16 23:06:21.821\u001b[0m | \u001b[1mINFO    \u001b[0m | \u001b[36mthsauto.base\u001b[0m:\u001b[36m_positions_in_view\u001b[0m:\u001b[36m76\u001b[0m - \u001b[1m6 ('万  科 A', '818.00', '161.17', '24.540%', '100', '100', '6.568', '8.180')\u001b[0m\n",
      "\u001b[32m2024-05-16 23:06:21.821\u001b[0m | \u001b[1mINFO    \u001b[0m | \u001b[36mthsauto.base\u001b[0m:\u001b[36m_positions_in_view\u001b[0m:\u001b[36m76\u001b[0m - \u001b[1m7 ('省广集团', '524.00', '-0.17', '-0.030%', '100', '100', '5.242', '5.240')\u001b[0m\n",
      "\u001b[32m2024-05-16 23:06:21.822\u001b[0m | \u001b[1mINFO    \u001b[0m | \u001b[36mthsauto.base\u001b[0m:\u001b[36m_positions_in_view\u001b[0m:\u001b[36m76\u001b[0m - \u001b[1m8 ('现代投资', '399.00', '0.87', '0.220%', '100', '100', '3.981', '3.990')\u001b[0m\n",
      "\u001b[32m2024-05-16 23:06:24.198\u001b[0m | \u001b[1mINFO    \u001b[0m | \u001b[36mthsauto.utils\u001b[0m:\u001b[36m__exit__\u001b[0m:\u001b[36m17\u001b[0m - \u001b[1mcode executed in 5.378571600000001 seconds\u001b[0m\n"
     ]
    },
    {
     "data": {
      "text/html": [
       "<div>\n",
       "<style scoped>\n",
       "    .dataframe tbody tr th:only-of-type {\n",
       "        vertical-align: middle;\n",
       "    }\n",
       "\n",
       "    .dataframe tbody tr th {\n",
       "        vertical-align: top;\n",
       "    }\n",
       "\n",
       "    .dataframe thead th {\n",
       "        text-align: right;\n",
       "    }\n",
       "</style>\n",
       "<table border=\"1\" class=\"dataframe\">\n",
       "  <thead>\n",
       "    <tr style=\"text-align: right;\">\n",
       "      <th></th>\n",
       "      <th>名称</th>\n",
       "      <th>市值</th>\n",
       "      <th>盈亏</th>\n",
       "      <th>盈亏率</th>\n",
       "      <th>持仓</th>\n",
       "      <th>可用</th>\n",
       "      <th>成本</th>\n",
       "      <th>现价</th>\n",
       "    </tr>\n",
       "  </thead>\n",
       "  <tbody>\n",
       "    <tr>\n",
       "      <th>0</th>\n",
       "      <td>建投能源</td>\n",
       "      <td>10065.0</td>\n",
       "      <td>-541.39</td>\n",
       "      <td>-0.0510</td>\n",
       "      <td>1500</td>\n",
       "      <td>1500</td>\n",
       "      <td>7.071</td>\n",
       "      <td>6.71</td>\n",
       "    </tr>\n",
       "    <tr>\n",
       "      <th>1</th>\n",
       "      <td>平安银行</td>\n",
       "      <td>2234.0</td>\n",
       "      <td>50.30</td>\n",
       "      <td>0.0230</td>\n",
       "      <td>200</td>\n",
       "      <td>200</td>\n",
       "      <td>10.919</td>\n",
       "      <td>11.17</td>\n",
       "    </tr>\n",
       "    <tr>\n",
       "      <th>2</th>\n",
       "      <td>浦发银行</td>\n",
       "      <td>1604.0</td>\n",
       "      <td>24.48</td>\n",
       "      <td>0.0155</td>\n",
       "      <td>200</td>\n",
       "      <td>200</td>\n",
       "      <td>7.898</td>\n",
       "      <td>8.02</td>\n",
       "    </tr>\n",
       "    <tr>\n",
       "      <th>3</th>\n",
       "      <td>劲仔食品</td>\n",
       "      <td>1379.0</td>\n",
       "      <td>-40.46</td>\n",
       "      <td>-0.0285</td>\n",
       "      <td>100</td>\n",
       "      <td>100</td>\n",
       "      <td>14.195</td>\n",
       "      <td>13.79</td>\n",
       "    </tr>\n",
       "    <tr>\n",
       "      <th>4</th>\n",
       "      <td>一汽解放</td>\n",
       "      <td>886.0</td>\n",
       "      <td>-15.29</td>\n",
       "      <td>-0.0170</td>\n",
       "      <td>100</td>\n",
       "      <td>100</td>\n",
       "      <td>9.013</td>\n",
       "      <td>8.86</td>\n",
       "    </tr>\n",
       "    <tr>\n",
       "      <th>5</th>\n",
       "      <td>万  科 A</td>\n",
       "      <td>818.0</td>\n",
       "      <td>161.17</td>\n",
       "      <td>0.2454</td>\n",
       "      <td>100</td>\n",
       "      <td>100</td>\n",
       "      <td>6.568</td>\n",
       "      <td>8.18</td>\n",
       "    </tr>\n",
       "    <tr>\n",
       "      <th>6</th>\n",
       "      <td>省广集团</td>\n",
       "      <td>524.0</td>\n",
       "      <td>-0.17</td>\n",
       "      <td>-0.0003</td>\n",
       "      <td>100</td>\n",
       "      <td>100</td>\n",
       "      <td>5.242</td>\n",
       "      <td>5.24</td>\n",
       "    </tr>\n",
       "    <tr>\n",
       "      <th>7</th>\n",
       "      <td>现代投资</td>\n",
       "      <td>399.0</td>\n",
       "      <td>0.87</td>\n",
       "      <td>0.0022</td>\n",
       "      <td>100</td>\n",
       "      <td>100</td>\n",
       "      <td>3.981</td>\n",
       "      <td>3.99</td>\n",
       "    </tr>\n",
       "  </tbody>\n",
       "</table>\n",
       "</div>"
      ],
      "text/plain": [
       "       名称       市值      盈亏     盈亏率    持仓    可用      成本     现价\n",
       "0    建投能源  10065.0 -541.39 -0.0510  1500  1500   7.071   6.71\n",
       "1    平安银行   2234.0   50.30  0.0230   200   200  10.919  11.17\n",
       "2    浦发银行   1604.0   24.48  0.0155   200   200   7.898   8.02\n",
       "3    劲仔食品   1379.0  -40.46 -0.0285   100   100  14.195  13.79\n",
       "4    一汽解放    886.0  -15.29 -0.0170   100   100   9.013   8.86\n",
       "5  万  科 A    818.0  161.17  0.2454   100   100   6.568   8.18\n",
       "6    省广集团    524.0   -0.17 -0.0003   100   100   5.242   5.24\n",
       "7    现代投资    399.0    0.87  0.0022   100   100   3.981   3.99"
      ]
     },
     "execution_count": 2,
     "metadata": {},
     "output_type": "execute_result"
    }
   ],
   "source": [
    "# 持仓\n",
    "positions = t.get_positions()\n",
    "positions"
   ]
  },
  {
   "cell_type": "code",
   "execution_count": 34,
   "metadata": {},
   "outputs": [
    {
     "name": "stderr",
     "output_type": "stream",
     "text": [
      "\u001b[32m2024-05-15 14:48:19.381\u001b[0m | \u001b[1mINFO    \u001b[0m | \u001b[36mthsauto.utils\u001b[0m:\u001b[36m__exit__\u001b[0m:\u001b[36m17\u001b[0m - \u001b[1mcode executed in 4.418182699999306 seconds\u001b[0m\n"
     ]
    },
    {
     "data": {
      "text/html": [
       "<div>\n",
       "<style scoped>\n",
       "    .dataframe tbody tr th:only-of-type {\n",
       "        vertical-align: middle;\n",
       "    }\n",
       "\n",
       "    .dataframe tbody tr th {\n",
       "        vertical-align: top;\n",
       "    }\n",
       "\n",
       "    .dataframe thead th {\n",
       "        text-align: right;\n",
       "    }\n",
       "</style>\n",
       "<table border=\"1\" class=\"dataframe\">\n",
       "  <thead>\n",
       "    <tr style=\"text-align: right;\">\n",
       "      <th></th>\n",
       "      <th>名称</th>\n",
       "      <th>委托时间</th>\n",
       "      <th>委托价</th>\n",
       "      <th>成交均价</th>\n",
       "      <th>委托量</th>\n",
       "      <th>已成交量</th>\n",
       "      <th>买卖</th>\n",
       "      <th>状态</th>\n",
       "    </tr>\n",
       "  </thead>\n",
       "  <tbody>\n",
       "  </tbody>\n",
       "</table>\n",
       "</div>"
      ],
      "text/plain": [
       "Empty DataFrame\n",
       "Columns: [名称, 委托时间, 委托价, 成交均价, 委托量, 已成交量, 买卖, 状态]\n",
       "Index: []"
      ]
     },
     "execution_count": 34,
     "metadata": {},
     "output_type": "execute_result"
    }
   ],
   "source": [
    "# 委托\n",
    "orders = t.get_orders(break_after_done=True)\n",
    "orders"
   ]
  },
  {
   "cell_type": "code",
   "execution_count": 27,
   "metadata": {},
   "outputs": [
    {
     "data": {
      "text/plain": [
       "[('浦发银行', '13:27:57', '7.400', '0.000', '100', '0', '买入', '未成交'),\n",
       " ('浦发银行', '13:26:04', '7.400', '0.000', '100', '0', '买入', '未成交'),\n",
       " ('浦发银行', '13:19:02', '7.400', '0.000', '100', '0', '买入', '全部撤单'),\n",
       " ('浦发银行', '13:18:37', '7.400', '0.000', '100', '0', '买入', '全部撤单'),\n",
       " ('浦发银行', '13:18:13', '7.400', '0.000', '100', '0', '买入', '全部撤单'),\n",
       " ('浦发银行', '13:18:00', '7.400', '0.000', '100', '0', '买入', '全部撤单'),\n",
       " ('浦发银行', '13:16:08', '7.400', '0.000', '100', '0', '买入', '全部撤单'),\n",
       " ('浦发银行', '13:15:40', '7.400', '0.000', '100', '0', '买入', '全部撤单'),\n",
       " ('浦发银行', '13:15:20', '7.400', '0.000', '100', '0', '买入', '全部撤单'),\n",
       " ('浦发银行', '13:14:21', '7.400', '0.000', '100', '0', '买入', '全部撤单'),\n",
       " ('浦发银行', '13:13:27', '7.400', '0.000', '100', '0', '买入', '全部撤单'),\n",
       " ('浦发银行', '13:12:23', '7.400', '0.000', '100', '0', '买入', '全部撤单'),\n",
       " ('浦发银行', '13:12:02', '7.400', '0.000', '100', '0', '买入', '全部撤单'),\n",
       " ('浦发银行', '13:11:45', '7.400', '0.000', '100', '0', '买入', '全部撤单'),\n",
       " ('浦发银行', '11:24:31', '7.400', '0.000', '100', '0', '买入', '全部撤单'),\n",
       " ('浦发银行', '11:16:28', '7.500', '0.000', '100', '0', '买入', '全部撤单'),\n",
       " ('浦发银行', '10:50:28', '7.400', '0.000', '100', '0', '买入', '全部撤单'),\n",
       " ('浦发银行', '00:11:56', '7.940', '0.000', '100', '0', '买入', '全部撤单')]"
      ]
     },
     "execution_count": 27,
     "metadata": {},
     "output_type": "execute_result"
    }
   ],
   "source": [
    "# 委托。未处理的原始数据\n",
    "t.orders"
   ]
  },
  {
   "cell_type": "code",
   "execution_count": 29,
   "metadata": {},
   "outputs": [
    {
     "name": "stdout",
     "output_type": "stream",
     "text": [
      "After pricing\n",
      "global btn_transaction (0, 0)\n",
      "btn_transaction (190, 674)\n",
      "After querying btn_transaction (190, 674)\n",
      "Waiting for confirm order\n"
     ]
    },
    {
     "name": "stderr",
     "output_type": "stream",
     "text": [
      "\u001b[32m2024-05-13 13:29:43.486\u001b[0m | \u001b[1mINFO    \u001b[0m | \u001b[36mthsauto.base\u001b[0m:\u001b[36m_place_order_auto\u001b[0m:\u001b[36m462\u001b[0m - \u001b[1m{'标题': '委托买入确认', '账户': ' A521280853', '名称': ' 浦发银行', '代码': ' 600000', '数量': ' 100', '价格': ' 7.4'}\u001b[0m\n",
      "\u001b[32m2024-05-13 13:29:44.813\u001b[0m | \u001b[1mINFO    \u001b[0m | \u001b[36mthsauto.base\u001b[0m:\u001b[36m_place_order_auto\u001b[0m:\u001b[36m478\u001b[0m - \u001b[1m{'标题': '系统信息', '内容': '委托已提交，合同号为：4091725410'}\u001b[0m\n",
      "\u001b[32m2024-05-13 13:29:44.963\u001b[0m | \u001b[1mINFO    \u001b[0m | \u001b[36mthsauto.utils\u001b[0m:\u001b[36m__exit__\u001b[0m:\u001b[36m17\u001b[0m - \u001b[1mcode executed in 6.204979400004959 seconds\u001b[0m\n"
     ]
    },
    {
     "name": "stdout",
     "output_type": "stream",
     "text": [
      "委托已提交\n"
     ]
    }
   ],
   "source": [
    "# 支持股票代码\n",
    "confirm, prompt = t.buy(100, 7.4, code='600000', debug=False)\n",
    "confirm, prompt\n",
    "a:dict = {}\n",
    "if prompt and prompt.get('内容') and prompt['内容'].startswith('委托已提交'):\n",
    "    print('委托已提交')\n",
    "\n"
   ]
  },
  {
   "cell_type": "code",
   "execution_count": 43,
   "metadata": {},
   "outputs": [
    {
     "name": "stdout",
     "output_type": "stream",
     "text": [
      "After pricing\n",
      "global btn_transaction (0, 0)\n",
      "btn_transaction (190, 673)\n",
      "After querying btn_transaction (190, 673)\n"
     ]
    },
    {
     "name": "stderr",
     "output_type": "stream",
     "text": [
      "\u001b[32m2024-05-15 14:53:36.054\u001b[0m | \u001b[1mINFO    \u001b[0m | \u001b[36mthsauto.base\u001b[0m:\u001b[36m_place_order_auto\u001b[0m:\u001b[36m462\u001b[0m - \u001b[1m{'标题': '委托卖出确认', '账户': ' 00145560510', '名称': ' 万  科 A', '代码': ' 000002', '数量': ' 300', '价格': ' 7.72'}\u001b[0m\n"
     ]
    },
    {
     "name": "stdout",
     "output_type": "stream",
     "text": [
      "Waiting for confirm order\n"
     ]
    },
    {
     "name": "stderr",
     "output_type": "stream",
     "text": [
      "\u001b[32m2024-05-15 14:53:37.359\u001b[0m | \u001b[1mINFO    \u001b[0m | \u001b[36mthsauto.base\u001b[0m:\u001b[36m_place_order_auto\u001b[0m:\u001b[36m478\u001b[0m - \u001b[1m{'标题': '系统信息', '内容': '委托已提交，合同号为：4098231254'}\u001b[0m\n",
      "\u001b[32m2024-05-15 14:53:37.502\u001b[0m | \u001b[1mINFO    \u001b[0m | \u001b[36mthsauto.utils\u001b[0m:\u001b[36m__exit__\u001b[0m:\u001b[36m17\u001b[0m - \u001b[1mcode executed in 5.332583100011107 seconds\u001b[0m\n"
     ]
    },
    {
     "data": {
      "text/plain": [
       "({'标题': '委托卖出确认',\n",
       "  '账户': '00145560510',\n",
       "  '名称': '万科A',\n",
       "  '代码': '000002',\n",
       "  '数量': 300,\n",
       "  '价格': 7.72},\n",
       " {'标题': '系统信息', '内容': '委托已提交，合同号为：4098231254'})"
      ]
     },
     "execution_count": 43,
     "metadata": {},
     "output_type": "execute_result"
    }
   ],
   "source": [
    "\n",
    "# 支持股票名称。只要在键盘精灵中排第一即可\n",
    "confirm, prompt = t.sell('300', '7.72', symbol='万科A', debug=False)\n",
    "confirm, prompt"
   ]
  },
  {
   "cell_type": "code",
   "execution_count": null,
   "metadata": {},
   "outputs": [],
   "source": [
    "\n",
    "# 支持拼音缩写。只要在键盘精灵中排第一即可\n",
    "confirm, prompt = t.sell(200, float('nan'), symbol='gzmt', skip_popup=False)\n",
    "confirm, prompt"
   ]
  },
  {
   "cell_type": "code",
   "execution_count": 18,
   "metadata": {},
   "outputs": [
    {
     "name": "stderr",
     "output_type": "stream",
     "text": [
      "\u001b[32m2024-05-13 13:20:02.121\u001b[0m | \u001b[1mINFO    \u001b[0m | \u001b[36mthsauto.base\u001b[0m:\u001b[36mcancel_single\u001b[0m:\u001b[36m268\u001b[0m - \u001b[1morder=('浦发银行', '13:16:08', '7.400', '100', '买入')\u001b[0m\n",
      "\u001b[32m2024-05-13 13:20:02.950\u001b[0m | \u001b[1mINFO    \u001b[0m | \u001b[36mthsauto.base\u001b[0m:\u001b[36m_orders_in_view\u001b[0m:\u001b[36m117\u001b[0m - \u001b[1m1 ('浦发银行', '13:19:02', '7.400', '0.000', '100', '0', '买入', '未成交')\u001b[0m\n",
      "\u001b[32m2024-05-13 13:20:02.953\u001b[0m | \u001b[1mINFO    \u001b[0m | \u001b[36mthsauto.base\u001b[0m:\u001b[36m_orders_in_view\u001b[0m:\u001b[36m117\u001b[0m - \u001b[1m2 ('浦发银行', '13:18:37', '7.400', '0.000', '100', '0', '买入', '未成交')\u001b[0m\n",
      "\u001b[32m2024-05-13 13:20:02.955\u001b[0m | \u001b[1mINFO    \u001b[0m | \u001b[36mthsauto.base\u001b[0m:\u001b[36m_orders_in_view\u001b[0m:\u001b[36m117\u001b[0m - \u001b[1m3 ('浦发银行', '13:18:13', '7.400', '0.000', '100', '0', '买入', '未成交')\u001b[0m\n",
      "\u001b[32m2024-05-13 13:20:02.956\u001b[0m | \u001b[1mINFO    \u001b[0m | \u001b[36mthsauto.base\u001b[0m:\u001b[36m_orders_in_view\u001b[0m:\u001b[36m117\u001b[0m - \u001b[1m4 ('浦发银行', '13:18:00', '7.400', '0.000', '100', '0', '买入', '未成交')\u001b[0m\n",
      "\u001b[32m2024-05-13 13:20:02.958\u001b[0m | \u001b[1mINFO    \u001b[0m | \u001b[36mthsauto.base\u001b[0m:\u001b[36m_orders_in_view\u001b[0m:\u001b[36m117\u001b[0m - \u001b[1m5 ('浦发银行', '13:15:40', '7.400', '0.000', '100', '0', '买入', '未成交')\u001b[0m\n",
      "\u001b[32m2024-05-13 13:20:02.961\u001b[0m | \u001b[1mINFO    \u001b[0m | \u001b[36mthsauto.base\u001b[0m:\u001b[36m_orders_in_view\u001b[0m:\u001b[36m117\u001b[0m - \u001b[1m6 ('浦发银行', '13:15:20', '7.400', '0.000', '100', '0', '买入', '未成交')\u001b[0m\n",
      "\u001b[32m2024-05-13 13:20:02.963\u001b[0m | \u001b[1mINFO    \u001b[0m | \u001b[36mthsauto.base\u001b[0m:\u001b[36m_orders_in_view\u001b[0m:\u001b[36m117\u001b[0m - \u001b[1m7 ('浦发银行', '13:14:21', '7.400', '0.000', '100', '0', '买入', '未成交')\u001b[0m\n",
      "\u001b[32m2024-05-13 13:20:02.964\u001b[0m | \u001b[1mINFO    \u001b[0m | \u001b[36mthsauto.base\u001b[0m:\u001b[36m_orders_in_view\u001b[0m:\u001b[36m117\u001b[0m - \u001b[1m8 ('浦发银行', '13:13:27', '7.400', '0.000', '100', '0', '买入', '未成交')\u001b[0m\n",
      "\u001b[32m2024-05-13 13:20:02.966\u001b[0m | \u001b[1mINFO    \u001b[0m | \u001b[36mthsauto.base\u001b[0m:\u001b[36m_orders_in_view\u001b[0m:\u001b[36m117\u001b[0m - \u001b[1m9 ()\u001b[0m\n",
      "\u001b[32m2024-05-13 13:20:05.392\u001b[0m | \u001b[1mINFO    \u001b[0m | \u001b[36mthsauto.base\u001b[0m:\u001b[36m_orders_in_view\u001b[0m:\u001b[36m117\u001b[0m - \u001b[1m1 ()\u001b[0m\n",
      "\u001b[32m2024-05-13 13:20:05.395\u001b[0m | \u001b[1mINFO    \u001b[0m | \u001b[36mthsauto.base\u001b[0m:\u001b[36m_orders_in_view\u001b[0m:\u001b[36m117\u001b[0m - \u001b[1m2 ('浦发银行', '13:13:27', '7.400', '0.000', '100', '0', '买入', '未成交')\u001b[0m\n",
      "\u001b[32m2024-05-13 13:20:05.397\u001b[0m | \u001b[1mINFO    \u001b[0m | \u001b[36mthsauto.base\u001b[0m:\u001b[36m_orders_in_view\u001b[0m:\u001b[36m117\u001b[0m - \u001b[1m3 ('浦发银行', '13:12:23', '7.400', '0.000', '100', '0', '买入', '未成交')\u001b[0m\n",
      "\u001b[32m2024-05-13 13:20:05.399\u001b[0m | \u001b[1mINFO    \u001b[0m | \u001b[36mthsauto.base\u001b[0m:\u001b[36m_orders_in_view\u001b[0m:\u001b[36m117\u001b[0m - \u001b[1m4 ('浦发银行', '13:12:02', '7.400', '0.000', '100', '0', '买入', '未成交')\u001b[0m\n",
      "\u001b[32m2024-05-13 13:20:05.401\u001b[0m | \u001b[1mINFO    \u001b[0m | \u001b[36mthsauto.base\u001b[0m:\u001b[36m_orders_in_view\u001b[0m:\u001b[36m117\u001b[0m - \u001b[1m5 ('浦发银行', '13:11:45', '7.400', '0.000', '100', '0', '买入', '未成交')\u001b[0m\n",
      "\u001b[32m2024-05-13 13:20:05.402\u001b[0m | \u001b[1mINFO    \u001b[0m | \u001b[36mthsauto.base\u001b[0m:\u001b[36m_orders_in_view\u001b[0m:\u001b[36m117\u001b[0m - \u001b[1m6 ('浦发银行', '11:24:31', '7.400', '0.000', '100', '0', '买入', '未成交')\u001b[0m\n",
      "\u001b[32m2024-05-13 13:20:05.403\u001b[0m | \u001b[1mINFO    \u001b[0m | \u001b[36mthsauto.base\u001b[0m:\u001b[36m_orders_in_view\u001b[0m:\u001b[36m117\u001b[0m - \u001b[1m7 ('浦发银行', '11:16:28', '7.500', '0.000', '100', '0', '买入', '未成交')\u001b[0m\n",
      "\u001b[32m2024-05-13 13:20:05.405\u001b[0m | \u001b[1mINFO    \u001b[0m | \u001b[36mthsauto.base\u001b[0m:\u001b[36m_orders_in_view\u001b[0m:\u001b[36m117\u001b[0m - \u001b[1m8 ('浦发银行', '13:16:08', '7.400', '0.000', '100', '0', '买入', '全部撤单')\u001b[0m\n",
      "\u001b[32m2024-05-13 13:20:05.408\u001b[0m | \u001b[1mINFO    \u001b[0m | \u001b[36mthsauto.base\u001b[0m:\u001b[36m_orders_in_view\u001b[0m:\u001b[36m117\u001b[0m - \u001b[1m9 ('浦发银行', '7.400', '100', '买入')\u001b[0m\n",
      "\u001b[32m2024-05-13 13:20:05.411\u001b[0m | \u001b[1mINFO    \u001b[0m | \u001b[36mthsauto.utils\u001b[0m:\u001b[36m__exit__\u001b[0m:\u001b[36m17\u001b[0m - \u001b[1mcode executed in 3.4736417999956757 seconds\u001b[0m\n"
     ]
    },
    {
     "ename": "Exception",
     "evalue": "状态已完成，不可再撤, idx=8, order_=('浦发银行', '13:16:08', '7.400', '0.000', '100', '0', '买入', '全部撤单')",
     "output_type": "error",
     "traceback": [
      "\u001b[1;31m---------------------------------------------------------------------------\u001b[0m",
      "\u001b[1;31mException\u001b[0m                                 Traceback (most recent call last)",
      "Cell \u001b[1;32mIn[18], line 2\u001b[0m\n\u001b[0;32m      1\u001b[0m \u001b[38;5;66;03m# 撤第一条\u001b[39;00m\n\u001b[1;32m----> 2\u001b[0m confirm, prompt \u001b[38;5;241m=\u001b[39m \u001b[43mt\u001b[49m\u001b[38;5;241;43m.\u001b[39;49m\u001b[43mcancel_single\u001b[49m\u001b[43m(\u001b[49m\u001b[43mt\u001b[49m\u001b[38;5;241;43m.\u001b[39;49m\u001b[43morder_at\u001b[49m\u001b[43m(\u001b[49m\u001b[38;5;241;43m0\u001b[39;49m\u001b[43m)\u001b[49m\u001b[43m,\u001b[49m\u001b[43m \u001b[49m\u001b[43mdebug\u001b[49m\u001b[38;5;241;43m=\u001b[39;49m\u001b[38;5;28;43;01mFalse\u001b[39;49;00m\u001b[43m)\u001b[49m\n\u001b[0;32m      3\u001b[0m confirm, prompt\n",
      "File \u001b[1;32mI:\\python\\ths\\thsauto\\thsauto\\ths.py:194\u001b[0m, in \u001b[0;36mTHS.cancel_single\u001b[1;34m(self, order, input_mask, inside_mask, debug)\u001b[0m\n\u001b[0;32m    192\u001b[0m \u001b[38;5;28mself\u001b[39m\u001b[38;5;241m.\u001b[39mgoto(\u001b[38;5;124m'\u001b[39m\u001b[38;5;124m撤单\u001b[39m\u001b[38;5;124m'\u001b[39m)\n\u001b[0;32m    193\u001b[0m debug \u001b[38;5;241m=\u001b[39m \u001b[38;5;28mself\u001b[39m\u001b[38;5;241m.\u001b[39mdebug \u001b[38;5;28;01mif\u001b[39;00m debug \u001b[38;5;129;01mis\u001b[39;00m \u001b[38;5;28;01mNone\u001b[39;00m \u001b[38;5;28;01melse\u001b[39;00m debug\n\u001b[1;32m--> 194\u001b[0m \u001b[38;5;28mself\u001b[39m\u001b[38;5;241m.\u001b[39mconfirm, \u001b[38;5;28mself\u001b[39m\u001b[38;5;241m.\u001b[39mprompt \u001b[38;5;241m=\u001b[39m \u001b[43mcancel_single\u001b[49m\u001b[43m(\u001b[49m\u001b[38;5;28;43mself\u001b[39;49m\u001b[38;5;241;43m.\u001b[39;49m\u001b[43md\u001b[49m\u001b[43m,\u001b[49m\u001b[43m \u001b[49m\u001b[43morder\u001b[49m\u001b[43m,\u001b[49m\u001b[43m \u001b[49m\u001b[43minput_mask\u001b[49m\u001b[43m,\u001b[49m\u001b[43m \u001b[49m\u001b[43minside_mask\u001b[49m\u001b[43m,\u001b[49m\u001b[43m \u001b[49m\u001b[43mdebug\u001b[49m\u001b[43m)\u001b[49m\n\u001b[0;32m    195\u001b[0m \u001b[38;5;28;01mreturn\u001b[39;00m parse_confirm_cancel(\u001b[38;5;28mself\u001b[39m\u001b[38;5;241m.\u001b[39mconfirm), \u001b[38;5;28mself\u001b[39m\u001b[38;5;241m.\u001b[39mprompt\n",
      "File \u001b[1;32mI:\\python\\ths\\thsauto\\thsauto\\base.py:287\u001b[0m, in \u001b[0;36mcancel_single\u001b[1;34m(d, order, input_mask, inside_mask, debug)\u001b[0m\n\u001b[0;32m    285\u001b[0m \u001b[38;5;28;01mif\u001b[39;00m order \u001b[38;5;241m==\u001b[39m tup:\n\u001b[0;32m    286\u001b[0m     \u001b[38;5;28;01mif\u001b[39;00m order_is_done(order_[\u001b[38;5;241m-\u001b[39m\u001b[38;5;241m1\u001b[39m]):\n\u001b[1;32m--> 287\u001b[0m         \u001b[38;5;28;01mraise\u001b[39;00m \u001b[38;5;167;01mException\u001b[39;00m(\u001b[38;5;124mf\u001b[39m\u001b[38;5;124m'\u001b[39m\u001b[38;5;124m状态已完成，不可再撤, \u001b[39m\u001b[38;5;132;01m{\u001b[39;00midx\u001b[38;5;132;01m=}\u001b[39;00m\u001b[38;5;124m, \u001b[39m\u001b[38;5;132;01m{\u001b[39;00morder_\u001b[38;5;132;01m=}\u001b[39;00m\u001b[38;5;124m'\u001b[39m)\n\u001b[0;32m    288\u001b[0m         \u001b[38;5;66;03m# logger.warning(f'状态已完成，不可再撤, {idx=}, {order_=}')\u001b[39;00m\n\u001b[0;32m    289\u001b[0m         \u001b[38;5;66;03m# return {}, {}\u001b[39;00m\n\u001b[0;32m    290\u001b[0m     found \u001b[38;5;241m=\u001b[39m idx\n",
      "\u001b[1;31mException\u001b[0m: 状态已完成，不可再撤, idx=8, order_=('浦发银行', '13:16:08', '7.400', '0.000', '100', '0', '买入', '全部撤单')"
     ]
    }
   ],
   "source": [
    "\n",
    "# 撤第一条\n",
    "confirm, prompt = t.cancel_single(t.order_at(0), debug=False)\n",
    "confirm, prompt"
   ]
  },
  {
   "cell_type": "code",
   "execution_count": 3,
   "metadata": {},
   "outputs": [
    {
     "name": "stderr",
     "output_type": "stream",
     "text": [
      "\u001b[32m2024-05-13 11:11:57.657\u001b[0m | \u001b[1mINFO    \u001b[0m | \u001b[36mthsauto.utils\u001b[0m:\u001b[36m__exit__\u001b[0m:\u001b[36m17\u001b[0m - \u001b[1mcode executed in 4.89092229999369 seconds\u001b[0m\n"
     ]
    },
    {
     "ename": "Exception",
     "evalue": "找不到 ['全撤', '撤买', '撤卖'] 三个按钮。请单笔委托撤单",
     "output_type": "error",
     "traceback": [
      "\u001b[1;31m---------------------------------------------------------------------------\u001b[0m",
      "\u001b[1;31mException\u001b[0m                                 Traceback (most recent call last)",
      "Cell \u001b[1;32mIn[3], line 2\u001b[0m\n\u001b[0;32m      1\u001b[0m \u001b[38;5;66;03m# 撤买\u001b[39;00m\n\u001b[1;32m----> 2\u001b[0m confirm, prompt \u001b[38;5;241m=\u001b[39m \u001b[43mt\u001b[49m\u001b[38;5;241;43m.\u001b[39;49m\u001b[43mcancel_multiple\u001b[49m\u001b[43m(\u001b[49m\u001b[38;5;124;43m'\u001b[39;49m\u001b[38;5;124;43mbuy\u001b[39;49m\u001b[38;5;124;43m'\u001b[39;49m\u001b[43m)\u001b[49m\n\u001b[0;32m      3\u001b[0m confirm, prompt\n",
      "File \u001b[1;32mI:\\python\\ths\\thsauto\\thsauto\\ths.py:219\u001b[0m, in \u001b[0;36mTHS.cancel_multiple\u001b[1;34m(self, opt, debug)\u001b[0m\n\u001b[0;32m    217\u001b[0m \u001b[38;5;28mself\u001b[39m\u001b[38;5;241m.\u001b[39mgoto(\u001b[38;5;124m'\u001b[39m\u001b[38;5;124m撤单\u001b[39m\u001b[38;5;124m'\u001b[39m)\n\u001b[0;32m    218\u001b[0m debug \u001b[38;5;241m=\u001b[39m \u001b[38;5;28mself\u001b[39m\u001b[38;5;241m.\u001b[39mdebug \u001b[38;5;28;01mif\u001b[39;00m debug \u001b[38;5;129;01mis\u001b[39;00m \u001b[38;5;28;01mNone\u001b[39;00m \u001b[38;5;28;01melse\u001b[39;00m debug\n\u001b[1;32m--> 219\u001b[0m \u001b[38;5;28mself\u001b[39m\u001b[38;5;241m.\u001b[39mconfirm, \u001b[38;5;28mself\u001b[39m\u001b[38;5;241m.\u001b[39mprompt \u001b[38;5;241m=\u001b[39m \u001b[43mcancel_multiple\u001b[49m\u001b[43m(\u001b[49m\u001b[38;5;28;43mself\u001b[39;49m\u001b[38;5;241;43m.\u001b[39;49m\u001b[43md\u001b[49m\u001b[43m,\u001b[49m\u001b[43m \u001b[49m\u001b[43mopt\u001b[49m\u001b[43m,\u001b[49m\u001b[43m \u001b[49m\u001b[43mdebug\u001b[49m\u001b[43m)\u001b[49m\n\u001b[0;32m    220\u001b[0m \u001b[38;5;28;01mreturn\u001b[39;00m \u001b[38;5;28mself\u001b[39m\u001b[38;5;241m.\u001b[39mconfirm, \u001b[38;5;28mself\u001b[39m\u001b[38;5;241m.\u001b[39mprompt\n",
      "File \u001b[1;32mI:\\python\\ths\\thsauto\\thsauto\\base.py:228\u001b[0m, in \u001b[0;36mcancel_multiple\u001b[1;34m(d, opt, debug)\u001b[0m\n\u001b[0;32m    226\u001b[0m root\u001b[38;5;241m.\u001b[39mscroll\u001b[38;5;241m.\u001b[39mto(text\u001b[38;5;241m=\u001b[39m\u001b[38;5;124m'\u001b[39m\u001b[38;5;124m全撤\u001b[39m\u001b[38;5;124m'\u001b[39m)\n\u001b[0;32m    227\u001b[0m \u001b[38;5;28;01mif\u001b[39;00m \u001b[38;5;129;01mnot\u001b[39;00m node\u001b[38;5;241m.\u001b[39mwait(exists\u001b[38;5;241m=\u001b[39m\u001b[38;5;28;01mTrue\u001b[39;00m, timeout\u001b[38;5;241m=\u001b[39m\u001b[38;5;241m2.0\u001b[39m):\n\u001b[1;32m--> 228\u001b[0m     \u001b[38;5;28;01mraise\u001b[39;00m \u001b[38;5;167;01mException\u001b[39;00m(\u001b[38;5;124m\"\u001b[39m\u001b[38;5;124m找不到 [\u001b[39m\u001b[38;5;124m'\u001b[39m\u001b[38;5;124m全撤\u001b[39m\u001b[38;5;124m'\u001b[39m\u001b[38;5;124m, \u001b[39m\u001b[38;5;124m'\u001b[39m\u001b[38;5;124m撤买\u001b[39m\u001b[38;5;124m'\u001b[39m\u001b[38;5;124m, \u001b[39m\u001b[38;5;124m'\u001b[39m\u001b[38;5;124m撤卖\u001b[39m\u001b[38;5;124m'\u001b[39m\u001b[38;5;124m] 三个按钮。请单笔委托撤单\u001b[39m\u001b[38;5;124m\"\u001b[39m)\n\u001b[0;32m    229\u001b[0m     \u001b[38;5;66;03m# logger.warning(\"找不到 ['全撤', '撤买', '撤卖'] 三个按钮。请单笔委托撤单\")\u001b[39;00m\n\u001b[0;32m    230\u001b[0m     \u001b[38;5;66;03m# return {}, {}\u001b[39;00m\n\u001b[0;32m    232\u001b[0m node\u001b[38;5;241m.\u001b[39mclick()\n",
      "\u001b[1;31mException\u001b[0m: 找不到 ['全撤', '撤买', '撤卖'] 三个按钮。请单笔委托撤单"
     ]
    }
   ],
   "source": [
    "# 撤买\n",
    "confirm, prompt = t.cancel_multiple('buy')\n",
    "confirm, prompt"
   ]
  },
  {
   "cell_type": "code",
   "execution_count": null,
   "metadata": {},
   "outputs": [],
   "source": [
    "\n",
    "# 全撤\n",
    "confirm, prompt = t.cancel_multiple('all', debug=False)\n",
    "confirm, prompt"
   ]
  },
  {
   "cell_type": "code",
   "execution_count": null,
   "metadata": {},
   "outputs": [],
   "source": [
    "confirm, prompt = t.cancel_multiple('sell')\n",
    "confirm, prompt"
   ]
  }
 ],
 "metadata": {
  "kernelspec": {
   "display_name": "env",
   "language": "python",
   "name": "python3"
  },
  "language_info": {
   "codemirror_mode": {
    "name": "ipython",
    "version": 3
   },
   "file_extension": ".py",
   "mimetype": "text/x-python",
   "name": "python",
   "nbconvert_exporter": "python",
   "pygments_lexer": "ipython3",
   "version": "3.11.4"
  }
 },
 "nbformat": 4,
 "nbformat_minor": 2
}
